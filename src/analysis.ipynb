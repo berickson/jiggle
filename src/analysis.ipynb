{
 "cells": [
  {
   "cell_type": "code",
   "execution_count": 444,
   "metadata": {},
   "outputs": [],
   "source": [
    "import numpy as np\n",
    "import pandas as pd\n",
    "import matplotlib.pyplot as plt"
   ]
  },
  {
   "cell_type": "code",
   "execution_count": 445,
   "metadata": {},
   "outputs": [],
   "source": [
    "hector_path = \"../../../hector.csv\"\n",
    "actuals_path = \"../../../out.csv\""
   ]
  },
  {
   "cell_type": "code",
   "execution_count": 446,
   "metadata": {},
   "outputs": [],
   "source": [
    "hector = pd.read_csv(hector_path)"
   ]
  },
  {
   "cell_type": "code",
   "execution_count": 447,
   "metadata": {},
   "outputs": [],
   "source": [
    "actuals = pd.read_csv(actuals_path)"
   ]
  },
  {
   "cell_type": "code",
   "execution_count": 448,
   "metadata": {},
   "outputs": [
    {
     "data": {
      "text/html": [
       "<div>\n",
       "<style scoped>\n",
       "    .dataframe tbody tr th:only-of-type {\n",
       "        vertical-align: middle;\n",
       "    }\n",
       "\n",
       "    .dataframe tbody tr th {\n",
       "        vertical-align: top;\n",
       "    }\n",
       "\n",
       "    .dataframe thead th {\n",
       "        text-align: right;\n",
       "    }\n",
       "</style>\n",
       "<table border=\"1\" class=\"dataframe\">\n",
       "  <thead>\n",
       "    <tr style=\"text-align: right;\">\n",
       "      <th></th>\n",
       "      <th>frame_id</th>\n",
       "      <th>sec</th>\n",
       "      <th>nsec</th>\n",
       "      <th>fsec</th>\n",
       "      <th>x</th>\n",
       "      <th>y</th>\n",
       "      <th>ds</th>\n",
       "      <th>theta</th>\n",
       "      <th>dtheta</th>\n",
       "    </tr>\n",
       "  </thead>\n",
       "  <tbody>\n",
       "    <tr>\n",
       "      <th>0</th>\n",
       "      <td>/map</td>\n",
       "      <td>1308817217</td>\n",
       "      <td>652789722</td>\n",
       "      <td>1.308817e+09</td>\n",
       "      <td>0.004860</td>\n",
       "      <td>0.004524</td>\n",
       "      <td>0.749641</td>\n",
       "      <td>0.006640</td>\n",
       "      <td>0.749641</td>\n",
       "    </tr>\n",
       "    <tr>\n",
       "      <th>1</th>\n",
       "      <td>/map</td>\n",
       "      <td>1308817217</td>\n",
       "      <td>902741722</td>\n",
       "      <td>1.308817e+09</td>\n",
       "      <td>0.002979</td>\n",
       "      <td>-0.000229</td>\n",
       "      <td>-1.947560</td>\n",
       "      <td>0.005112</td>\n",
       "      <td>-2.697200</td>\n",
       "    </tr>\n",
       "    <tr>\n",
       "      <th>2</th>\n",
       "      <td>/map</td>\n",
       "      <td>1308817218</td>\n",
       "      <td>152674722</td>\n",
       "      <td>1.308817e+09</td>\n",
       "      <td>0.003845</td>\n",
       "      <td>-0.000004</td>\n",
       "      <td>0.254286</td>\n",
       "      <td>0.000895</td>\n",
       "      <td>2.201850</td>\n",
       "    </tr>\n",
       "    <tr>\n",
       "      <th>3</th>\n",
       "      <td>/map</td>\n",
       "      <td>1308817218</td>\n",
       "      <td>403765722</td>\n",
       "      <td>1.308817e+09</td>\n",
       "      <td>0.001423</td>\n",
       "      <td>0.000549</td>\n",
       "      <td>2.917100</td>\n",
       "      <td>0.002485</td>\n",
       "      <td>2.662810</td>\n",
       "    </tr>\n",
       "    <tr>\n",
       "      <th>4</th>\n",
       "      <td>/map</td>\n",
       "      <td>1308817218</td>\n",
       "      <td>653769722</td>\n",
       "      <td>1.308817e+09</td>\n",
       "      <td>0.004017</td>\n",
       "      <td>0.001476</td>\n",
       "      <td>0.343210</td>\n",
       "      <td>0.002755</td>\n",
       "      <td>-2.573880</td>\n",
       "    </tr>\n",
       "  </tbody>\n",
       "</table>\n",
       "</div>"
      ],
      "text/plain": [
       "  frame_id         sec       nsec          fsec         x         y        ds  \\\n",
       "0     /map  1308817217  652789722  1.308817e+09  0.004860  0.004524  0.749641   \n",
       "1     /map  1308817217  902741722  1.308817e+09  0.002979 -0.000229 -1.947560   \n",
       "2     /map  1308817218  152674722  1.308817e+09  0.003845 -0.000004  0.254286   \n",
       "3     /map  1308817218  403765722  1.308817e+09  0.001423  0.000549  2.917100   \n",
       "4     /map  1308817218  653769722  1.308817e+09  0.004017  0.001476  0.343210   \n",
       "\n",
       "      theta    dtheta  \n",
       "0  0.006640  0.749641  \n",
       "1  0.005112 -2.697200  \n",
       "2  0.000895  2.201850  \n",
       "3  0.002485  2.662810  \n",
       "4  0.002755 -2.573880  "
      ]
     },
     "execution_count": 448,
     "metadata": {},
     "output_type": "execute_result"
    }
   ],
   "source": [
    "hector.head()"
   ]
  },
  {
   "cell_type": "code",
   "execution_count": 449,
   "metadata": {},
   "outputs": [
    {
     "data": {
      "text/html": [
       "<div>\n",
       "<style scoped>\n",
       "    .dataframe tbody tr th:only-of-type {\n",
       "        vertical-align: middle;\n",
       "    }\n",
       "\n",
       "    .dataframe tbody tr th {\n",
       "        vertical-align: top;\n",
       "    }\n",
       "\n",
       "    .dataframe thead th {\n",
       "        text-align: right;\n",
       "    }\n",
       "</style>\n",
       "<table border=\"1\" class=\"dataframe\">\n",
       "  <thead>\n",
       "    <tr style=\"text-align: right;\">\n",
       "      <th></th>\n",
       "      <th>frame</th>\n",
       "      <th>sec</th>\n",
       "      <th>nsec</th>\n",
       "      <th>scan_time</th>\n",
       "      <th>dx</th>\n",
       "      <th>dy</th>\n",
       "      <th>dtheta</th>\n",
       "      <th>x</th>\n",
       "      <th>y</th>\n",
       "      <th>theta</th>\n",
       "      <th>bag_path</th>\n",
       "    </tr>\n",
       "  </thead>\n",
       "  <tbody>\n",
       "    <tr>\n",
       "      <th>0</th>\n",
       "      <td>3420</td>\n",
       "      <td>1308817217</td>\n",
       "      <td>326647722</td>\n",
       "      <td>0.025</td>\n",
       "      <td>0.000000</td>\n",
       "      <td>0.000000</td>\n",
       "      <td>0.000000</td>\n",
       "      <td>0.000000</td>\n",
       "      <td>0.000000</td>\n",
       "      <td>0.000000</td>\n",
       "      <td>Team_Hector_MappingBox_Dagstuhl_Neubau.bag</td>\n",
       "    </tr>\n",
       "    <tr>\n",
       "      <th>1</th>\n",
       "      <td>3421</td>\n",
       "      <td>1308817217</td>\n",
       "      <td>351743722</td>\n",
       "      <td>0.025</td>\n",
       "      <td>0.000000</td>\n",
       "      <td>0.000000</td>\n",
       "      <td>0.000000</td>\n",
       "      <td>0.000000</td>\n",
       "      <td>0.000000</td>\n",
       "      <td>0.000000</td>\n",
       "      <td>Team_Hector_MappingBox_Dagstuhl_Neubau.bag</td>\n",
       "    </tr>\n",
       "    <tr>\n",
       "      <th>2</th>\n",
       "      <td>3422</td>\n",
       "      <td>1308817217</td>\n",
       "      <td>376696722</td>\n",
       "      <td>0.025</td>\n",
       "      <td>0.000000</td>\n",
       "      <td>0.000000</td>\n",
       "      <td>0.000000</td>\n",
       "      <td>0.000000</td>\n",
       "      <td>0.000000</td>\n",
       "      <td>0.000000</td>\n",
       "      <td>Team_Hector_MappingBox_Dagstuhl_Neubau.bag</td>\n",
       "    </tr>\n",
       "    <tr>\n",
       "      <th>3</th>\n",
       "      <td>3423</td>\n",
       "      <td>1308817217</td>\n",
       "      <td>401694722</td>\n",
       "      <td>0.025</td>\n",
       "      <td>0.000988</td>\n",
       "      <td>-0.002963</td>\n",
       "      <td>0.004444</td>\n",
       "      <td>0.000988</td>\n",
       "      <td>-0.002963</td>\n",
       "      <td>0.004444</td>\n",
       "      <td>Team_Hector_MappingBox_Dagstuhl_Neubau.bag</td>\n",
       "    </tr>\n",
       "    <tr>\n",
       "      <th>4</th>\n",
       "      <td>3424</td>\n",
       "      <td>1308817217</td>\n",
       "      <td>426730722</td>\n",
       "      <td>0.025</td>\n",
       "      <td>0.000000</td>\n",
       "      <td>0.000000</td>\n",
       "      <td>0.000000</td>\n",
       "      <td>0.000988</td>\n",
       "      <td>-0.002963</td>\n",
       "      <td>0.004444</td>\n",
       "      <td>Team_Hector_MappingBox_Dagstuhl_Neubau.bag</td>\n",
       "    </tr>\n",
       "  </tbody>\n",
       "</table>\n",
       "</div>"
      ],
      "text/plain": [
       "   frame         sec       nsec  scan_time        dx        dy    dtheta  \\\n",
       "0   3420  1308817217  326647722      0.025  0.000000  0.000000  0.000000   \n",
       "1   3421  1308817217  351743722      0.025  0.000000  0.000000  0.000000   \n",
       "2   3422  1308817217  376696722      0.025  0.000000  0.000000  0.000000   \n",
       "3   3423  1308817217  401694722      0.025  0.000988 -0.002963  0.004444   \n",
       "4   3424  1308817217  426730722      0.025  0.000000  0.000000  0.000000   \n",
       "\n",
       "          x         y     theta                                    bag_path  \n",
       "0  0.000000  0.000000  0.000000  Team_Hector_MappingBox_Dagstuhl_Neubau.bag  \n",
       "1  0.000000  0.000000  0.000000  Team_Hector_MappingBox_Dagstuhl_Neubau.bag  \n",
       "2  0.000000  0.000000  0.000000  Team_Hector_MappingBox_Dagstuhl_Neubau.bag  \n",
       "3  0.000988 -0.002963  0.004444  Team_Hector_MappingBox_Dagstuhl_Neubau.bag  \n",
       "4  0.000988 -0.002963  0.004444  Team_Hector_MappingBox_Dagstuhl_Neubau.bag  "
      ]
     },
     "execution_count": 449,
     "metadata": {},
     "output_type": "execute_result"
    }
   ],
   "source": [
    "actuals.head()"
   ]
  },
  {
   "cell_type": "code",
   "execution_count": 450,
   "metadata": {},
   "outputs": [
    {
     "data": {
      "text/plain": [
       "Index(['frame_id', 'sec', 'nsec', 'fsec', 'x', 'y', 'ds', 'theta', 'dtheta'], dtype='object')"
      ]
     },
     "execution_count": 450,
     "metadata": {},
     "output_type": "execute_result"
    }
   ],
   "source": [
    "hector.columns"
   ]
  },
  {
   "cell_type": "code",
   "execution_count": 451,
   "metadata": {},
   "outputs": [
    {
     "data": {
      "text/plain": [
       "[<matplotlib.lines.Line2D at 0x7f56c63056a0>]"
      ]
     },
     "execution_count": 451,
     "metadata": {},
     "output_type": "execute_result"
    },
    {
     "data": {
      "image/png": "[encoded data removed]",
      "text/plain": [
       "<Figure size 432x288 with 1 Axes>"
      ]
     },
     "metadata": {
      "needs_background": "light"
     },
     "output_type": "display_data"
    }
   ],
   "source": [
    "plt.plot(hector.x, hector.y);\n",
    "plt.plot(actuals.x,actuals.y)"
   ]
  },
  {
   "cell_type": "code",
   "execution_count": 452,
   "metadata": {},
   "outputs": [
    {
     "data": {
      "text/plain": [
       "-7.946094635529586"
      ]
     },
     "execution_count": 452,
     "metadata": {},
     "output_type": "execute_result"
    }
   ],
   "source": [
    "np.sum(actuals.dtheta)"
   ]
  },
  {
   "cell_type": "code",
   "execution_count": 453,
   "metadata": {},
   "outputs": [
    {
     "data": {
      "text/plain": [
       "-2.3161627862299987"
      ]
     },
     "execution_count": 453,
     "metadata": {},
     "output_type": "execute_result"
    }
   ],
   "source": [
    "np.sum(hector.dtheta)"
   ]
  },
  {
   "cell_type": "code",
   "execution_count": 454,
   "metadata": {},
   "outputs": [],
   "source": [
    "play = actuals.copy()"
   ]
  },
  {
   "cell_type": "code",
   "execution_count": 455,
   "metadata": {},
   "outputs": [],
   "source": [
    "play['ds'] = np.sqrt(play.dx*play.dx+play.dy*play.dy)"
   ]
  },
  {
   "cell_type": "code",
   "execution_count": 456,
   "metadata": {},
   "outputs": [],
   "source": [
    "fix = (0.15)/sum(play.ds)"
   ]
  },
  {
   "cell_type": "code",
   "execution_count": 457,
   "metadata": {},
   "outputs": [
    {
     "data": {
      "text/plain": [
       "0.000948555016417389"
      ]
     },
     "execution_count": 457,
     "metadata": {},
     "output_type": "execute_result"
    }
   ],
   "source": [
    "fix"
   ]
  },
  {
   "cell_type": "code",
   "execution_count": 458,
   "metadata": {},
   "outputs": [],
   "source": [
    "play.dtheta = play.dtheta+fix"
   ]
  },
  {
   "cell_type": "code",
   "execution_count": 459,
   "metadata": {},
   "outputs": [],
   "source": [
    "new_theta = list()\n",
    "new_x = list()\n",
    "new_y = list()\n",
    "\n",
    "for i in range(len(play)):    \n",
    "    if i == 0:\n",
    "        theta = 0\n",
    "        x = 0\n",
    "        y = 0\n",
    "    else:\n",
    "        theta += play.dtheta[i]+fix*play.ds[i]\n",
    "        x += play.ds[i]*np.cos(theta)\n",
    "        y += play.ds[i]*np.sin(theta)\n",
    "    new_theta.append(theta)\n",
    "    new_x.append(x)\n",
    "    new_y.append(y)\n",
    "\n",
    "play.theta = new_theta\n",
    "play.x = new_x\n",
    "play.y = new_y\n",
    "    #print(i)"
   ]
  },
  {
   "cell_type": "code",
   "execution_count": 460,
   "metadata": {},
   "outputs": [
    {
     "data": {
      "text/plain": [
       "[<matplotlib.lines.Line2D at 0x7f56c62f33c8>]"
      ]
     },
     "execution_count": 460,
     "metadata": {},
     "output_type": "execute_result"
    },
    {
     "data": {
      "image/png": "[encoded data removed]",
      "text/plain": [
       "<Figure size 432x288 with 1 Axes>"
      ]
     },
     "metadata": {
      "needs_background": "light"
     },
     "output_type": "display_data"
    }
   ],
   "source": [
    "plt.plot(play.x,play.y)"
   ]
  },
  {
   "cell_type": "code",
   "execution_count": 461,
   "metadata": {},
   "outputs": [
    {
     "name": "stdout",
     "output_type": "stream",
     "text": [
      "5987\n"
     ]
    }
   ],
   "source": [
    "print(len(play))"
   ]
  },
  {
   "cell_type": "code",
   "execution_count": 462,
   "metadata": {},
   "outputs": [
    {
     "data": {
      "text/plain": [
       "158.1352661720531"
      ]
     },
     "execution_count": 462,
     "metadata": {},
     "output_type": "execute_result"
    }
   ],
   "source": [
    "sum(play.ds)"
   ]
  },
  {
   "cell_type": "code",
   "execution_count": null,
   "metadata": {},
   "outputs": [],
   "source": []
  }
 ],
 "metadata": {
  "kernelspec": {
   "display_name": "Python 3",
   "language": "python",
   "name": "python3"
  },
  "language_info": {
   "codemirror_mode": {
    "name": "ipython",
    "version": 3
   },
   "file_extension": ".py",
   "mimetype": "text/x-python",
   "name": "python",
   "nbconvert_exporter": "python",
   "pygments_lexer": "ipython3",
   "version": "3.7.3"
  }
 },
 "nbformat": 4,
 "nbformat_minor": 2
}
